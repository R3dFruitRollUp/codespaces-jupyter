{
 "cells": [
  {
   "cell_type": "code",
   "execution_count": 5,
   "metadata": {},
   "outputs": [],
   "source": [
    "\"\"\"\n",
    "\n",
    "Load a text file as a list.\n",
    "\n",
    "Arguments:\n",
    "-text file name (and directory path, if needed)\n",
    "\n",
    "Exceptions:\n",
    "-IOError if filename not found.\n",
    "\n",
    "Returns:\n",
    "-A list of all words in a text file in lower case.\n",
    "\n",
    "Requires-import sys\n",
    "\n",
    "\"\"\"\n",
    "\n",
    "import sys\n",
    "\n",
    "def load(file):\n",
    "    \"\"\"Open a text file & return a list of lowercase strings.\"\"\"\n",
    "    try:\n",
    "        with open(file) as in_file:\n",
    "            loaded_txt = infile.read().strip().split('\\n')\n",
    "            loaded_txt = [x.lower() for x in loaded_txt]\n",
    "            return loaded_txt\n",
    "    except IOError as e:\n",
    "            print(\"{}\\nerror opening {}. Terminating program.\".format(e, file),file=sys.stderr)\n",
    "            sys.exit(1)\n",
    "            \n"
   ]
  },
  {
   "cell_type": "code",
   "execution_count": null,
   "metadata": {},
   "outputs": [],
   "source": []
  }
 ],
 "metadata": {
  "kernelspec": {
   "display_name": "Python 3",
   "language": "python",
   "name": "python3"
  },
  "language_info": {
   "codemirror_mode": {
    "name": "ipython",
    "version": 3
   },
   "file_extension": ".py",
   "mimetype": "text/x-python",
   "name": "python",
   "nbconvert_exporter": "python",
   "pygments_lexer": "ipython3",
   "version": "3.10.4"
  },
  "orig_nbformat": 4
 },
 "nbformat": 4,
 "nbformat_minor": 2
}
